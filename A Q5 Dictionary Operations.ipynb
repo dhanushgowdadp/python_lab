{
 "cells": [
  {
   "cell_type": "markdown",
   "id": "c0cfd2ce",
   "metadata": {},
   "source": [
    "# 5 a."
   ]
  },
  {
   "cell_type": "code",
   "execution_count": 5,
   "id": "570d7e8d",
   "metadata": {},
   "outputs": [
    {
     "name": "stdout",
     "output_type": "stream",
     "text": [
      "3\n",
      "2\n",
      "{'one': 3}\n"
     ]
    }
   ],
   "source": [
    "example=dict()\n",
    "\n",
    "example['one']=1\n",
    "example['two']=2\n",
    "\n",
    "example.update({'one':3})\n",
    "\n",
    "print(example['one'])\n",
    "print(example.get('two'))\n",
    "\n",
    "del example['two']\n",
    "\n",
    "print(example)"
   ]
  },
  {
   "cell_type": "markdown",
   "id": "cc06fb02",
   "metadata": {},
   "source": [
    "# 5 b."
   ]
  },
  {
   "cell_type": "code",
   "execution_count": 13,
   "id": "a93dcfd1",
   "metadata": {},
   "outputs": [
    {
     "name": "stdout",
     "output_type": "stream",
     "text": [
      "Original Dictionary :  {'one': 1, 'two': 2, 'three': 3}\n",
      "After pop 'one' :  {'two': 2, 'three': 3}\n",
      "After popitem :  {'two': 2}\n",
      "After clear() :  {}\n"
     ]
    }
   ],
   "source": [
    "example=dict()\n",
    "\n",
    "example['one']=1\n",
    "example['two']=2\n",
    "example['three']=3\n",
    "\n",
    "print(\"Original Dictionary : \",example)\n",
    "\n",
    "example.pop('one')\n",
    "\n",
    "print(\"After pop 'one' : \",example)\n",
    "\n",
    "example.popitem()\n",
    "\n",
    "print(\"After popitem : \",example)\n",
    "\n",
    "example.clear()\n",
    "\n",
    "print(\"After clear() : \",example)"
   ]
  },
  {
   "cell_type": "markdown",
   "id": "539cc408",
   "metadata": {},
   "source": [
    "# 5 c."
   ]
  },
  {
   "cell_type": "code",
   "execution_count": 14,
   "id": "a4836cc8",
   "metadata": {},
   "outputs": [
    {
     "name": "stdout",
     "output_type": "stream",
     "text": [
      "Sum :  600\n"
     ]
    }
   ],
   "source": [
    "def return_sum(dict):\n",
    "    sum=0\n",
    "    for i in dict:\n",
    "        sum=sum+dict[i]\n",
    "    return sum\n",
    "\n",
    "dict={'a':100,'b':200,'c':300}\n",
    "\n",
    "print(\"Sum : \",return_sum(dict))"
   ]
  },
  {
   "cell_type": "markdown",
   "id": "9938cd6c",
   "metadata": {},
   "source": [
    "# 5 d."
   ]
  },
  {
   "cell_type": "code",
   "execution_count": 17,
   "id": "f85a796d",
   "metadata": {},
   "outputs": [
    {
     "name": "stdout",
     "output_type": "stream",
     "text": [
      "{'a': 10, 'b': 8, 'c': 6, 'd': 4}\n"
     ]
    }
   ],
   "source": [
    "dict1={'a':10,'b':8}\n",
    "dict2={'c':6,'d':4}\n",
    "\n",
    "dict1.update(dict2)\n",
    "\n",
    "print(dict1)"
   ]
  },
  {
   "cell_type": "code",
   "execution_count": null,
   "id": "8be89fa9",
   "metadata": {},
   "outputs": [],
   "source": []
  }
 ],
 "metadata": {
  "kernelspec": {
   "display_name": "Python 3 (ipykernel)",
   "language": "python",
   "name": "python3"
  },
  "language_info": {
   "codemirror_mode": {
    "name": "ipython",
    "version": 3
   },
   "file_extension": ".py",
   "mimetype": "text/x-python",
   "name": "python",
   "nbconvert_exporter": "python",
   "pygments_lexer": "ipython3",
   "version": "3.11.5"
  }
 },
 "nbformat": 4,
 "nbformat_minor": 5
}
