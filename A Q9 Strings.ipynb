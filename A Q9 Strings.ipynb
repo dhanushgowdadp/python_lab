{
 "cells": [
  {
   "cell_type": "code",
   "execution_count": 1,
   "id": "3c9d4e9e",
   "metadata": {},
   "outputs": [
    {
     "name": "stdout",
     "output_type": "stream",
     "text": [
      "Enter a Stringassa\n",
      "String is Non-Symmetric.\n",
      "String is Palindrome.\n"
     ]
    }
   ],
   "source": [
    "string1=input(\"Enter a String\")\n",
    "\n",
    "if (len(string1)==1):\n",
    "    print(\"String is Symmetric.\")\n",
    "elif(len(string1)%2==1):\n",
    "    print(\"String is Non-Symmetric.\")\n",
    "else:\n",
    "    str1=string1[0:int(len(string1)/2)]\n",
    "    str2=string1[int(len(string1)/2):]\n",
    "    if(str1==str2):\n",
    "        print(\"String is Symmetric.\")\n",
    "    else:\n",
    "        print(\"String is Non-Symmetric.\")\n",
    "        \n",
    "if(string1[::-1]==string1):\n",
    "    print(\"String is Palindrome.\")\n",
    "else:\n",
    "    print(\"String is NOT a Palindrome.\")"
   ]
  },
  {
   "cell_type": "code",
   "execution_count": 1,
   "id": "7882ba1c",
   "metadata": {},
   "outputs": [
    {
     "name": "stdout",
     "output_type": "stream",
     "text": [
      "Enter a String AbhisHEk\n",
      "No.of vowels :  3 \n",
      "\n",
      "A\n",
      "b\n",
      "h\n",
      "i\n",
      "\n",
      "H\n",
      "\n",
      "k\n"
     ]
    }
   ],
   "source": [
    "string=input(\"Enter a String \")\n",
    "#string=string.lower()\n",
    "\n",
    "vowels=\"aeiouAEIOU\"\n",
    "v_count=0\n",
    "\n",
    "for ch in string:\n",
    "    if ch in vowels:\n",
    "        v_count+=1\n",
    "        \n",
    "print(\"No.of vowels : \",v_count,\"\\n\")\n",
    "\n",
    "for ch in string:\n",
    "    if ch.lower()!='e' and ch.lower()!='s':\n",
    "        print(ch)\n",
    "    else:\n",
    "        print(\"\")"
   ]
  },
  {
   "cell_type": "code",
   "execution_count": 2,
   "id": "73cf36b9",
   "metadata": {},
   "outputs": [
    {
     "name": "stdout",
     "output_type": "stream",
     "text": [
      "Enter a String India is my country\n",
      "Output :  is my country\n"
     ]
    }
   ],
   "source": [
    "string=input(\"Enter a String \")\n",
    "\n",
    "\n",
    "str=string.split()\n",
    "\n",
    "if len(str) > 1:\n",
    "    result_text=' '.join(str[1:])\n",
    "    print('Output : ',result_text)\n",
    "else:\n",
    "    print(\"Text has only one word.\")"
   ]
  },
  {
   "cell_type": "code",
   "execution_count": 12,
   "id": "30628baa",
   "metadata": {},
   "outputs": [
    {
     "name": "stdout",
     "output_type": "stream",
     "text": [
      "Enter a string: Abhishek\n",
      "Letter Histogram:\n",
      "a: 1\n",
      "b: 1\n",
      "h: 2\n",
      "i: 1\n",
      "s: 1\n",
      "e: 1\n",
      "k: 1\n"
     ]
    }
   ],
   "source": [
    "def count_letter_histogram(s):\n",
    "    letter_count = {}\n",
    "\n",
    "    for char in s:\n",
    "        if char.isalpha():  # Check if the character is a letter\n",
    "            char = char.lower()  # Ignore case\n",
    "            letter_count[char] = letter_count.get(char, 0) + 1\n",
    "\n",
    "    print(\"Letter Histogram:\")\n",
    "    for letter, count in letter_count.items():\n",
    "        print(f\"{letter}: {count}\")\n",
    "\n",
    "input_string = input(\"Enter a string: \")\n",
    "count_letter_histogram(input_string)\n"
   ]
  },
  {
   "cell_type": "code",
   "execution_count": null,
   "id": "190afeb5",
   "metadata": {},
   "outputs": [],
   "source": []
  }
 ],
 "metadata": {
  "kernelspec": {
   "display_name": "Python 3 (ipykernel)",
   "language": "python",
   "name": "python3"
  },
  "language_info": {
   "codemirror_mode": {
    "name": "ipython",
    "version": 3
   },
   "file_extension": ".py",
   "mimetype": "text/x-python",
   "name": "python",
   "nbconvert_exporter": "python",
   "pygments_lexer": "ipython3",
   "version": "3.11.5"
  }
 },
 "nbformat": 4,
 "nbformat_minor": 5
}
